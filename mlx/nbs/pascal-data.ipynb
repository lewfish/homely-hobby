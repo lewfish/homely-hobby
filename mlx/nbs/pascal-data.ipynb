{
 "cells": [
  {
   "cell_type": "code",
   "execution_count": null,
   "metadata": {},
   "outputs": [],
   "source": [
    "%matplotlib inline\n",
    "%reload_ext autoreload\n",
    "%autoreload 2\n",
    "\n",
    "from fastai.vision import *\n",
    "from fastai import *\n",
    "from pathlib import Path\n",
    "import json\n",
    "import collections\n",
    "import numpy as np"
   ]
  },
  {
   "cell_type": "code",
   "execution_count": null,
   "metadata": {},
   "outputs": [],
   "source": [
    "path = Path('/opt/data/pascal2007/')\n",
    "img_path = path/'VOCdevkit/VOC2007/JPEGImages'\n",
    "\n",
    "trn_path = path/'PASCAL_VOC/pascal_train2007.json'\n",
    "trn_images, trn_lbl_bbox = get_annotations(trn_path)\n",
    "trn_img2bbox = dict(zip(trn_images, trn_lbl_bbox))\n",
    "\n",
    "val_path = path/'PASCAL_VOC/pascal_val2007.json'\n",
    "val_images, val_lbl_bbox = get_annotations(val_path)\n",
    "val_img2bbox = dict(zip(val_images, val_lbl_bbox))\n",
    "\n",
    "img2bbox = {**trn_img2bbox, **val_img2bbox}\n",
    "\n",
    "def get_y_func(o):\n",
    "    x = img2bbox[o.name]\n",
    "    return x"
   ]
  },
  {
   "cell_type": "code",
   "execution_count": null,
   "metadata": {},
   "outputs": [],
   "source": [
    "# Use 1/10 of dataset\n",
    "# I tried using use_partial_data(0.1) but this made .label_from_func crash.\n",
    "data = ObjectItemList.from_folder(img_path)\n",
    "num_items = round(len(data) / 10)\n",
    "data = data[:num_items]"
   ]
  },
  {
   "cell_type": "code",
   "execution_count": null,
   "metadata": {},
   "outputs": [],
   "source": [
    "data = data.split_by_files(val_images) \\\n",
    "        .label_from_func(get_y_func) \\\n",
    "        .transform(get_transforms(), tfm_y=True, size=224) \\\n",
    "        .databunch(bs=16, collate_fn=bb_pad_collate) \\\n",
    "        .normalize(imagenet_stats)"
   ]
  },
  {
   "cell_type": "code",
   "execution_count": null,
   "metadata": {},
   "outputs": [],
   "source": [
    "data.show_batch()"
   ]
  },
  {
   "cell_type": "code",
   "execution_count": null,
   "metadata": {},
   "outputs": [],
   "source": []
  }
 ],
 "metadata": {
  "kernelspec": {
   "display_name": "Python 3",
   "language": "python",
   "name": "python3"
  },
  "language_info": {
   "codemirror_mode": {
    "name": "ipython",
    "version": 3
   },
   "file_extension": ".py",
   "mimetype": "text/x-python",
   "name": "python",
   "nbconvert_exporter": "python",
   "pygments_lexer": "ipython3",
   "version": "3.6.8"
  }
 },
 "nbformat": 4,
 "nbformat_minor": 2
}
